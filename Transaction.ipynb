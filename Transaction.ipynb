{
 "cells": [
  {
   "cell_type": "markdown",
   "metadata": {},
   "source": [
    "* In the case of failure either all or none operation should be performed. One account is debited and other not credited is not acceptable.\n",
    "* Collection of operation that form single logical unit of work is called transaction. Transaction is unit of program execution that accesses and updates various data items.\n",
    "* If transaction is failed in half way any changes which is made must be undone.\n",
    "* This all or none property is **ATOMICITY**\n",
    "* Isolation : transaction should perform properly without interference from concurrently executing database statements.\n",
    "* After performing transaction if system crashes, the action of transaction should persist. It is called **Durability**\n",
    "* Transaction should leave database consistent. Meaning at beginning of transaction if database is consistent, then after the transaction database should be consistent. It is called **Consistency**\n",
    "* Execution of transaction in isolation (meaning no other transaction in concurrent) preserve consistency of database.\n",
    "* Isolation: Multiple transaction may execute concurrently and it should appear that one transaction finished it execution before other starts. Transaction is unaware of other transaction in system.\n",
    "* This is called ACID property."
   ]
  },
  {
   "cell_type": "markdown",
   "metadata": {},
   "source": [
    "* `read(X)` : transfer data item X from the database to a variable, in main memory\n",
    "* `write(X)`: transfer value from the value in the variable x in main memory to item X in disk."
   ]
  },
  {
   "cell_type": "markdown",
   "metadata": {},
   "source": [
    "* Transaction that transfer $50 from A to B.\n",
    "![](images/transaction1.jpg)\n",
    "* Consistency means sum of A and B be unchanged by execution of transaction."
   ]
  },
  {
   "cell_type": "markdown",
   "metadata": {},
   "source": [
    "* For atomicity database keeps track of old value of data on which write is performed. It is written in log. If transaction does not complete its execution, restore old values from log to make appear transaction never get executed. It is handled by recovery system.\n",
    "* To ensure durability\n",
    "    - Updates carried out by the transaction have been written to disk before the transaction completes.\n",
    "    - Keeps log of update carried out by transaction so that after crash system can reconstruct using that.\n",
    "* After deducting money from A, and before adding in B. if other transaction read value of A and B, perform operation on them will lead database state inconsistent. Either perform transaction serially. But we will loss performance.\n",
    "\n",
    "* Storage can be volatile (main memory), non volatile (SSD, HDD), stable storage (Data never lost) not possible, implemented through replication  of non volatile disk.\n",
    "\n",
    "* Some RAID controller provides battery backup, so main memory can survive the crash.\n",
    "* To make transaction durable write changes to stable storage. For atomicity write log to stable storage.\n",
    "* In log we save identifier of transaction, identifier of  the data item being modified and both old and new values.\n",
    "* Transaction is committed which successfully completed its execution."
   ]
  },
  {
   "cell_type": "code",
   "execution_count": null,
   "metadata": {},
   "outputs": [],
   "source": []
  }
 ],
 "metadata": {
  "kernelspec": {
   "display_name": "Python 3",
   "language": "python",
   "name": "python3"
  },
  "language_info": {
   "codemirror_mode": {
    "name": "ipython",
    "version": 3
   },
   "file_extension": ".py",
   "mimetype": "text/x-python",
   "name": "python",
   "nbconvert_exporter": "python",
   "pygments_lexer": "ipython3",
   "version": "3.7.1"
  }
 },
 "nbformat": 4,
 "nbformat_minor": 2
}
