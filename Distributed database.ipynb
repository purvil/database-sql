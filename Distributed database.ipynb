{
 "cells": [
  {
   "cell_type": "markdown",
   "metadata": {},
   "source": [
    "* In centralized system database is located at one place. In distributed, data resides in several places.\n",
    "* Homogeneous Distributed database: All site has same DBMS software, are aware of one another, agree to cooperate. Cooperate with other site in exchanging information about transaction.\n",
    "* Heterogeneous DIstributed database: Different site may use different schemas, different DBMS software, sites may not aware of one another"
   ]
  },
  {
   "cell_type": "markdown",
   "metadata": {},
   "source": [
    "* Replication: Several identical replica stored at different location. Alternative is only 1 copy.\n",
    "* Fragmentation: Partition relation in several fragments, store each fragment at different location.\n",
    "* Make sure fragmented relation contains ALL records of original relation.\n",
    "* Availability is advantage of replication: one site down, we can find data at other site. Increase parallelism (If our usage is dominated by read, several site can process request in parallel). Data replication minimize movement of data between sites. \n",
    "* Increased overhead when update. Replicas should be consistent.\n",
    "* Fragmentation can be horizontal or vertical.\n",
    "    - Ex. accounts relation can be horizontally divided as one branch info will be in accounts1 and other in accounts2. It is used to keep tuples at the sites where they are used the most, to minimize data transfer.\n",
    "    * Using UNION we can reconstruct horizontal fragmentation.\n",
    "    * In vertical fragmentation us primary key/ tuple id in each fragment.\n",
    "    * Employee table can be vertically fragmented for security reason emp_id, salary in one relation and emp_id, name, designation in another.\n",
    "    - Fragmentation should have completeness, reconstruction and disjointness property\n",
    "* Transparency:\n",
    "- User of distributed system is not required to know where data are physically located or how the data can be accessed at specific local site. User not required to know relation is fragmented. replication transparency, location transparency.\n",
    "* To ensure unique name across all clusters, there will be name server which hales to ensure that same name is not used for different data items. Name server can be single point of failure.\n",
    "* Another way each cluster prefix its own name to name it generates, but location transparency fails here."
   ]
  },
  {
   "cell_type": "markdown",
   "metadata": {},
   "source": [
    "### Distributed Transaction\n",
    "* Local transaction are those that access and update data in several local database. \n",
    "* Global transaction are those that update access data from several local database.\n",
    "* Each site has own transaction manager, Which ensure ACID property of that site.\n",
    "* Transaction manager manages execution of those transactions that access data stored in local transaction or part of global transaction.\n",
    "    - maintain log for recovery\n",
    "    - handle concurrency\n",
    "* Transaction coordinate coordinates the execution of the various transaction actions initiated at that site.\n",
    "    - coordinate execution of all the transaction initiated at that site. Starts execution, break transaction in number of sub transaction and distributes to appropriate sites. Coordinate termination of transaction is committed to all sites or aborted at all sites.\n",
    "* Failure can be hardware software errors, disk crash, failure of site, loss of messages, failure of network link\n",
    "\n",
    "### Commit protocols\n",
    "* To ensure atomicity, all the sites in which  a transaction T executed must agree on final outcome of execution. Transaction coordinator must execute commit protocol.\n",
    "* Two phase commit protocol\n",
    "    - Transaction T initiated at site A, transaction coordinator is C_a.\n",
    "    - When T completes its execution when all sites which T has executed inform C_a that T has completed. Then C_a starts 2-phase commit.\n",
    "    - phase1: C_a adds the record `Prepare T` to log and forces log to stable storage, Sends message `Prepare T` to all site where T is executed. Transaction manager of each site determine whether it is willing to commit its portion of T. if answer is NO adds record `no T` to its log and respond by sending abort T message to C_a. if yes then `ready T` to log, forces log to stable storage and transaction manager reply with `ready T` to C_a.\n",
    "    - phase2: When C_a receive all responses or time up occur, C_A can determine whether transaction T can be committed or aborted. If all response is ready T then it can committed or must be aborted. `commit T` or `abort T` is added to log and log forced to stable storage. coordinator again send 'commit T' or abort T to all participating sites, sites record that message to their log.\n",
    "    - After site replied ready T, they can not say no to commit T.\n",
    "    - Any 1 'no T' will surely not allow the transaction.\n",
    "* 3-phase commit protocol "
   ]
  },
  {
   "cell_type": "code",
   "execution_count": null,
   "metadata": {},
   "outputs": [],
   "source": []
  }
 ],
 "metadata": {
  "kernelspec": {
   "display_name": "Python 3",
   "language": "python",
   "name": "python3"
  },
  "language_info": {
   "codemirror_mode": {
    "name": "ipython",
    "version": 3
   },
   "file_extension": ".py",
   "mimetype": "text/x-python",
   "name": "python",
   "nbconvert_exporter": "python",
   "pygments_lexer": "ipython3",
   "version": "3.7.1"
  }
 },
 "nbformat": 4,
 "nbformat_minor": 2
}
