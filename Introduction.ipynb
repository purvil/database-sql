{
 "cells": [
  {
   "cell_type": "markdown",
   "metadata": {},
   "source": [
    "* Real life entity becomes tables. Ex. professors, university, company\n",
    "* Reduces redundancy\n",
    "* Data integrity by relationship\n",
    "* Collection of information stored in database at particular moment is called **instance** of the database.\n",
    "* **Schema** is overall design of database.\n",
    "* Relational model uses collections of tables to represent both data and relationship among those data. Each table has an unique name.\n",
    "* For each column/ attribute of table, there are set of permitted values, called domain of the attribute.\n",
    "* A domain should be atomic. Meaning domain are considered to be indivisible unit.\n",
    "* null value signify that value is unknown or not exist.\n",
    "* Database schema is logical design of the database, database instance is snapshot of the data at given time. Relational schema consist of list of attributes and their domain.\n",
    "    ```\n",
    "    department(dept_name, building, budget)\n",
    "    ```\n",
    "* It is example of schema.\n",
    "* Using common attribute of different schema we can relate tuple of distinct relations.\n",
    "* Degree is number of attributes in relation\n",
    "* Cardinality is number of tuples in relation"
   ]
  },
  {
   "cell_type": "markdown",
   "metadata": {},
   "source": [
    "* Database administrator\n",
    "    - Manages and govern entire database\n",
    "    - Give permission to users\n",
    "    - Determine access to data\n",
    "    - Manages access to tables\n",
    "    - Uses SQL to query and retrieve data\n",
    "* Data scientist\n",
    "    - End user of database\n",
    "    - Uses SQL to query and retrieve data.\n",
    "* Example of RDBMS\n",
    "    - Microsoft sql server, MySQL, IBM DB2 Oracle, SQLite, PostgreSQL, Apache Open Office Base"
   ]
  },
  {
   "cell_type": "markdown",
   "metadata": {},
   "source": [
    "## Key\n",
    "* **Super key** is set of 1 or more attributes that, taken collectively allow us to identify tuple uniquely. Id can be the superkey, name can not be superkey.\n",
    "* Super key may contains extraneous attribute. Id and name can also be super key, in which Id is sufficient enough to distinguish tuples.\n",
    "* Super key for which no proper subset is super key, such minimal super key is called **candidate key**.\n",
    "* **Primary key** is candidate key chosen by database designer as the principle means of identifying tuple in table.\n",
    "* Primary key is chosen such that its attribute value are never or rarely changes. Ex. SSN. We list primary key attribute before any other attributes and it is underlined.\n",
    "* Table t1 has primary key attribute of other table t2, this attribute is called foreign key from t1, referencing t2. t1 is called referencing relation. t2 is called referenced relation.\n",
    "* value of foreign key attribute from tuple of t1, must be exist in any tuple's primary key attribute of t2.\n",
    "* **Referential integrity constraint**\n",
    "    - Values appearing in specified attributes of any tuple in referencing relation also appear in specified attribute of at least one tuple in referenced relation. As one or more times value appears in referenced relation we can not use foreign primary mechanism.\n",
    "* In Schema diagram, each relation appear as a box. with relation name as title, attributes listed in the box. Primary key attribute are shown underlined. Foreign key dependencies appear as arrow from foreign key attributes of referencing relation to the primary key of the referenced relation."
   ]
  },
  {
   "cell_type": "markdown",
   "metadata": {},
   "source": [
    "![](images/ERD.png)"
   ]
  },
  {
   "cell_type": "markdown",
   "metadata": {},
   "source": [
    "* Pandas works well when data fits in memory. Data relatively static (Does not need to be loaded in every minute as data has changed). Only single person is using data, security is not important.\n",
    "* When data changes frequently, requires shared access, does not fit in memory and security is needed. Database is better solution.\n",
    "* DBMS query data which is on disk, so we can manage TBs of data."
   ]
  },
  {
   "cell_type": "markdown",
   "metadata": {},
   "source": [
    "### Data Modeling\n",
    "* Organized and  structures information into multiple related tables.\n",
    "* Can represent business process or show relationship between business process.\n",
    "* We are modeling real world problem in terms of tables and relationships between tables.\n",
    "    - Hierarchical\n",
    "    - Network\n",
    "    - Relational\n",
    "        - Simple connection between the data. Easy to query, structured\n",
    "    - Entity relationship\n",
    "    - Semantic\n",
    "    - Object-oriented\n",
    "    - Extended relational\n",
    "    - NoSql\n",
    "        - Mechanism for storage and retrieval of unstructured data. Not modeled in tabular format.\n",
    "* Data model building blocks\n",
    "    - Entity: Person, place, event\n",
    "    - Attribute : A characteristic of an entity\n",
    "    - Relationship:Describes association among entities\n",
    "         - one to many : customer to invoices\n",
    "         - many to many : students to classes\n",
    "         - one to one : manager to store\n",
    "\n",
    "### ER diagram notation\n",
    "![](images/ER_notation.jpg)"
   ]
  },
  {
   "cell_type": "markdown",
   "metadata": {},
   "source": [
    "### Constraints\n",
    "* Entity integrity constraints\n",
    "    - Primary key, UNIQUE constraint\n",
    "* Referential integrity constraints\n",
    "    - Foreign key\n",
    "    - Defines relationship between table and ensure that relationship be valid\n",
    "* Semantic integrity constraints\n",
    "    - Correctness of meaning of data.\n",
    "* Domain constraint\n",
    "    - Permissible value for given attribute\n",
    "    -  Two letter contry code, 10 digit phone number\n",
    "* Null constraint\n",
    "* Check constraint\n",
    "    - Enforce domain constraint by limitting values.\n",
    "    - Year should be less than current year."
   ]
  },
  {
   "cell_type": "code",
   "execution_count": null,
   "metadata": {},
   "outputs": [],
   "source": []
  }
 ],
 "metadata": {
  "kernelspec": {
   "display_name": "Python 3",
   "language": "python",
   "name": "python3"
  },
  "language_info": {
   "codemirror_mode": {
    "name": "ipython",
    "version": 3
   },
   "file_extension": ".py",
   "mimetype": "text/x-python",
   "name": "python",
   "nbconvert_exporter": "python",
   "pygments_lexer": "ipython3",
   "version": "3.7.1"
  }
 },
 "nbformat": 4,
 "nbformat_minor": 2
}
