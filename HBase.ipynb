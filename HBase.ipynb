{
 "cells": [
  {
   "cell_type": "markdown",
   "metadata": {},
   "source": [
    "* HBASE is Distributed column-oriented data store built on top of HDFS.\n",
    "* HDFS good for batch processing task, Not good for record lookup, not good for incremental addition of small batches, not good for updates\n",
    "* HBase has fast record lookup. Support for record-level insertion and update.\n",
    "* Data model of HBase is based on BigTable, it is sparse(Not all record be completely filled), distributed, persistent multidimensional sorted map. Map indexed by row key, col key and a timestamp\n",
    "* HBase schema consist of several tables\n",
    "* Each table consists of a set of column families. Column are not part of schema\n",
    "* HBase has Dynamic Columns. Because column names are encoded inside cells, different cells can have different columns.\n",
    "* Version number can be user specified. Even does not have to be inserted in increasing order. Version number are unique with each key."
   ]
  }
 ],
 "metadata": {
  "kernelspec": {
   "display_name": "Python 3",
   "language": "python",
   "name": "python3"
  },
  "language_info": {
   "codemirror_mode": {
    "name": "ipython",
    "version": 3
   },
   "file_extension": ".py",
   "mimetype": "text/x-python",
   "name": "python",
   "nbconvert_exporter": "python",
   "pygments_lexer": "ipython3",
   "version": "3.7.1"
  },
  "varInspector": {
   "cols": {
    "lenName": 16,
    "lenType": 16,
    "lenVar": 40
   },
   "kernels_config": {
    "python": {
     "delete_cmd_postfix": "",
     "delete_cmd_prefix": "del ",
     "library": "var_list.py",
     "varRefreshCmd": "print(var_dic_list())"
    },
    "r": {
     "delete_cmd_postfix": ") ",
     "delete_cmd_prefix": "rm(",
     "library": "var_list.r",
     "varRefreshCmd": "cat(var_dic_list()) "
    }
   },
   "types_to_exclude": [
    "module",
    "function",
    "builtin_function_or_method",
    "instance",
    "_Feature"
   ],
   "window_display": false
  }
 },
 "nbformat": 4,
 "nbformat_minor": 2
}
