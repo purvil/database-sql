{
 "cells": [
  {
   "cell_type": "markdown",
   "metadata": {},
   "source": [
    "* Relational database has \n",
    "    - scalability problem\n",
    "    - Joins are slow\n",
    "    - Consistency is due to transaction, which requires locking some portion of database.\n",
    " \n",
    "* Vertical scaling\n",
    "    - Add memory, powerful processor and storage capacity.\n",
    "* Horizontal scaling\n",
    "    - replication and consistency problem arise.\n",
    "* To access the data fast we need to duplicate it (denormalise)\n",
    "* RDBMS supports transaction: It virtually executed first and allows user to rollback, if something go wrong.\n",
    "    - Transaction is transformation of state, that has ACID property.\n",
    "    - Atomic: All or nothing. Every update in transaction should get executed to call it completed. Transfer of money\n",
    "    - Consistent: Data moves from one correct state to other correct state. users should not see different values for same data\n",
    "    - Isolated: If transactions are executed concurrently, they should not interfere each other. Transaction should be executed in its own space. 2 transaction are updating same data, one should wait until other finish.\n",
    "    - Durable: Once transaction is completed, changes will persist in any case.\n",
    "    - If RDBMS is distributed across multiple node to get ACID properties need, transaction management system. The process called 2-phase commit is used. It locks all resources where update needed. Other client has to wait.\n",
    "    - Another approach is compensation. Useful is web technology, transaction is committed at first place and if error happens compensation transaction is executed to revert effect.\n",
    "    - 2PC introduce loss of availability and higher latency during partial failures.\n",
    "* Because of strict schema in RDBMS, we have to use complex JOIN which is slow.\n",
    "* Sharding and share nothing architecture:\n",
    "    - Split data instead holding all in one server, to support fast access. We need a good key by which we will shard. 26 machines, each stores data with specific starting character. Divide by region, by phone number, by member since date.\n",
    "    - Feature based or functional sharding: splitting in separate database the feature that are not overlapping with each other. customer table in one node, item in other, comments on other.\n",
    "    - Key-based sharding: as described above\n",
    "    - Look up table: one node stores data about where particular thing is and single point of failure, large load of request.\n",
    "    - This is shared nothing architecture: not centralized state, each node is independent. no client contention for share resources. Advantage is we can scale it as much as we want, Ex. Cassandra, map reduce, bigtable database."
   ]
  },
  {
   "cell_type": "markdown",
   "metadata": {},
   "source": [
    "### NOSQL\n",
    "* Key-value stores\n",
    "    - Data items is key that has set of attributes. All data relevant to key are stored with key.\n",
    "    - Amazon dynamo db, Caching technology like Redis\n",
    "* Column stores\n",
    "    - Cassandra, big table, HBase\n",
    "* Document stores\n",
    "    - Basic unit of storage is entire document, stored as JSON, XML\n",
    "    - MongoDb, couchDB\n",
    "* Graph database:\n",
    "    - network of nodes and edges that connects the nodes. Both node and edges can have properties.\n",
    "    - Neo4j, FlockDB\n",
    "* Object database:\n",
    "* XML database:"
   ]
  },
  {
   "cell_type": "markdown",
   "metadata": {},
   "source": [
    "* Main advantage of NOSQL is availability and horizontal scalability, distributed without central control\n",
    "* Cassandra is,\n",
    "    - Distributed\n",
    "        - Capable on running multiple machine but to user visible as unified.\n",
    "    - Decentralized\n",
    "        - Every node is identical, there no special node which performs managing task.\n",
    "        - It uses peer to peer protocol and gossip to maintain and keep in sync of list of nodes alive.\n",
    "        - No single point of failure. In contrast bigtable and Mysql use master slave mechanism. Because of it cassandra is highly available. In RDBMS we keep multiple copy of data, master send the command to slave for update and slave update it self. Mongodb also have master/slave architecture.\n",
    "    - Elastically scalable:\n",
    "        - Vertical scalability: Adding more hardware capability to existing machine.\n",
    "        - Horizontal scaling: multiple machine having all or some data so load is distributed among the machines. In elastic scalability cluster scale up and down as per need. We can add node any time without disturbing currently running process. In the same way we can remove node.\n",
    "    - Highly available and Fault-tolerant\n",
    "        - Availability means measure of fulfilling request.\n",
    "        - We can replace failed node with no downtime and can replicate data to multiple cluster to get availability.\n",
    "    - Tuneably consistent:\n",
    "        - Consistency means read always returns most recently written values. Last 1 item available and 2 customer example.\n",
    "        - Cassandra is eventual consistent. It trade consistency in order to achieve availability.\n",
    "        - Strict consistency: Read will ALWAYS return most recent data. In distributed system we need global clock that timestamp each operation. We have to lock all replicas until operation is completed.\n",
    "        - Causal consistency: Related writes must be read in sequence.\n",
    "        - Weak(Eventual) consistency: Update will propagate to all replicas in distributed systems, but may take some time. Eventually every replica will be consistent.\n",
    "        - Replication factor: Number of nodes in cluster we want update to propagates to.\n",
    "        - Consistency level: Client must specify on EVERY OPERATION that set to how many replicas the update must propagate in order to call successful.\n",
    "    - Row-oriented database\n",
    "        - Cassandra is partitioned row store\n",
    "        - For given row we can have 1 or more column, each row does not have to have all columns as relational database.\n",
    "        - Partitioned means each row has unique key which makes its data accessible. Key is used to distribute row to multiple data stores.\n",
    "* Distributed design from Amazon dynamo db and data model from bigtable.\n",
    "\n",
    "### CAP (Brewer's) theorem\n",
    "* Consistency : All database client will read same value for same query even if concurrent update are given\n",
    "* Availability: All database client always be able to read and write.\n",
    "* Partition tolerance: Database can be split in multiple machine and keep working even if face of network segmentation breaks.\n",
    "* At given time we can achieve any 2. \n",
    "* CA:\n",
    "    - Using 2 phase commit for distributed transaction. System will block when network partition occur meaning system is limited to single data center cluster\n",
    "    -Relational db\n",
    "* CP:\n",
    "    - Data sharding to scale. Consistent data but, unavailable when node is failed\n",
    "    -Neo4j, bigtable, mongodb,hbase,redis\n",
    "* AP:\n",
    "    - Inacurate data sometime but always available\n",
    "    - Amazon dynamo db, cassandra, couchdb\n",
    "    \n",
    "### Schema\n",
    "* Cassandra has flexible schema\n",
    "* It used to be schema free. Without schema it is difficult to determine structure of data and perform complex query.\n",
    "* CQL allows to define schema. Dynamic column also can be created using Thrift based API.\n",
    "* CQL collection like list, sets, maps provide way to add content in less structured way. We also can change type of column for certain instances. Allows to store JSON.\n",
    "\n",
    "-----------\n",
    "* Cassandra is powerful for write sensitive applications like logs, user activity update,"
   ]
  },
  {
   "cell_type": "markdown",
   "metadata": {},
   "source": [
    "### Start cassandra\n",
    "* Start server\n",
    "![](images/cassandra7.jpg)\n",
    "* start client\n",
    "![](images/cassandra8.jpg)"
   ]
  },
  {
   "cell_type": "markdown",
   "metadata": {},
   "source": [
    "### `cqlsh`\n",
    "* `HELP`: for help\n",
    "![](images/cassandra.jpg)"
   ]
  },
  {
   "cell_type": "markdown",
   "metadata": {},
   "source": [
    "### Keyspace\n",
    "* Its like database in relational database. It defines one or more table (column families)\n",
    "![](images/cassandra1.jpg)\n",
    "![](images/cassandra2.jpg)"
   ]
  },
  {
   "cell_type": "code",
   "execution_count": 2,
   "metadata": {},
   "outputs": [],
   "source": [
    "from cassandra.cluster import Cluster"
   ]
  },
  {
   "cell_type": "code",
   "execution_count": 3,
   "metadata": {},
   "outputs": [],
   "source": [
    "cluster = Cluster(['127.0.0.1'])"
   ]
  },
  {
   "cell_type": "markdown",
   "metadata": {},
   "source": [
    "* We only have to pass initial access point. after driver connects to one of those nodes it will automatically discovers all the nodes in the cluster and connect to them."
   ]
  },
  {
   "cell_type": "code",
   "execution_count": 4,
   "metadata": {},
   "outputs": [],
   "source": [
    "session = cluster.connect('my_keyspace') # Establish connection, "
   ]
  },
  {
   "cell_type": "markdown",
   "metadata": {},
   "source": [
    "* 'my_keyspace' wil be default keyspace for this session. to change it use\n",
    "\n",
    "```\n",
    "session.set_keyspace('new_keyspace')\n",
    "or\n",
    "session.execute('Use new_keyspace')\n",
    "```"
   ]
  },
  {
   "cell_type": "code",
   "execution_count": 8,
   "metadata": {},
   "outputs": [
    {
     "ename": "InvalidRequest",
     "evalue": "Error from server: code=2200 [Invalid query] message=\"unconfigured table user\"",
     "output_type": "error",
     "traceback": [
      "\u001b[1;31m---------------------------------------------------------------------------\u001b[0m",
      "\u001b[1;31mInvalidRequest\u001b[0m                            Traceback (most recent call last)",
      "\u001b[1;32m<ipython-input-8-2138948c4dab>\u001b[0m in \u001b[0;36m<module>\u001b[1;34m\u001b[0m\n\u001b[0;32m      1\u001b[0m session.execute(\"\"\"\n\u001b[0;32m      2\u001b[0m         \u001b[0mINSERT\u001b[0m \u001b[0mINTO\u001b[0m \u001b[0muser\u001b[0m \u001b[1;33m(\u001b[0m\u001b[0mfirst_name\u001b[0m\u001b[1;33m,\u001b[0m \u001b[0mlast_name\u001b[0m\u001b[1;33m)\u001b[0m \u001b[0mVALUES\u001b[0m \u001b[1;33m(\u001b[0m\u001b[1;34m'purvil'\u001b[0m\u001b[1;33m,\u001b[0m \u001b[1;34m'dave'\u001b[0m\u001b[1;33m)\u001b[0m\u001b[1;33m\u001b[0m\u001b[1;33m\u001b[0m\u001b[0m\n\u001b[1;32m----> 3\u001b[1;33m     \"\"\")\n\u001b[0m",
      "\u001b[1;32m~\\Anaconda3\\lib\\site-packages\\cassandra\\cluster.py\u001b[0m in \u001b[0;36mexecute\u001b[1;34m(self, query, parameters, timeout, trace, custom_payload, execution_profile, paging_state, host)\u001b[0m\n\u001b[0;32m   2215\u001b[0m         \"\"\"\n\u001b[0;32m   2216\u001b[0m         return self.execute_async(query, parameters, trace, custom_payload,\n\u001b[1;32m-> 2217\u001b[1;33m                                   timeout, execution_profile, paging_state, host).result()\n\u001b[0m\u001b[0;32m   2218\u001b[0m \u001b[1;33m\u001b[0m\u001b[0m\n\u001b[0;32m   2219\u001b[0m     def execute_async(self, query, parameters=None, trace=False, custom_payload=None,\n",
      "\u001b[1;32m~\\Anaconda3\\lib\\site-packages\\cassandra\\cluster.py\u001b[0m in \u001b[0;36mresult\u001b[1;34m(self)\u001b[0m\n\u001b[0;32m   4129\u001b[0m             \u001b[1;32mreturn\u001b[0m \u001b[0mResultSet\u001b[0m\u001b[1;33m(\u001b[0m\u001b[0mself\u001b[0m\u001b[1;33m,\u001b[0m \u001b[0mself\u001b[0m\u001b[1;33m.\u001b[0m\u001b[0m_final_result\u001b[0m\u001b[1;33m)\u001b[0m\u001b[1;33m\u001b[0m\u001b[1;33m\u001b[0m\u001b[0m\n\u001b[0;32m   4130\u001b[0m         \u001b[1;32melse\u001b[0m\u001b[1;33m:\u001b[0m\u001b[1;33m\u001b[0m\u001b[1;33m\u001b[0m\u001b[0m\n\u001b[1;32m-> 4131\u001b[1;33m             \u001b[1;32mraise\u001b[0m \u001b[0mself\u001b[0m\u001b[1;33m.\u001b[0m\u001b[0m_final_exception\u001b[0m\u001b[1;33m\u001b[0m\u001b[1;33m\u001b[0m\u001b[0m\n\u001b[0m\u001b[0;32m   4132\u001b[0m \u001b[1;33m\u001b[0m\u001b[0m\n\u001b[0;32m   4133\u001b[0m     \u001b[1;32mdef\u001b[0m \u001b[0mget_query_trace_ids\u001b[0m\u001b[1;33m(\u001b[0m\u001b[0mself\u001b[0m\u001b[1;33m)\u001b[0m\u001b[1;33m:\u001b[0m\u001b[1;33m\u001b[0m\u001b[1;33m\u001b[0m\u001b[0m\n",
      "\u001b[1;31mInvalidRequest\u001b[0m: Error from server: code=2200 [Invalid query] message=\"unconfigured table user\""
     ]
    }
   ],
   "source": [
    "session.execute(\"\"\"\n",
    "        INSERT INTO user (first_name, last_name) VALUES ('purvil', 'dave')\n",
    "    \"\"\")"
   ]
  },
  {
   "cell_type": "markdown",
   "metadata": {},
   "source": [
    "![](images/cassandra3.jpg)\n",
    "![](images/cassandra4.jpg)"
   ]
  },
  {
   "cell_type": "markdown",
   "metadata": {},
   "source": [
    "![](images/cassandra6.jpg)"
   ]
  },
  {
   "cell_type": "markdown",
   "metadata": {},
   "source": [
    "* In relational model, database is outer most container. It contains tables. Table has name and it contains several columns and each columns has name. If for specific row there is no value for specific column we will declare it as null.\n",
    "* In cassandra if for some row specific col is not available we can skip storing it. Row can be wider or skinny depends on number of columns it has. Wide row might have millions of columns"
   ]
  },
  {
   "cell_type": "markdown",
   "metadata": {},
   "source": [
    "![](images/cassandra_rows.png)"
   ]
  },
  {
   "cell_type": "markdown",
   "metadata": {},
   "source": [
    "#### Cassandra wide rows\n",
    "![](images/cassandra_wide_row.png)"
   ]
  },
  {
   "cell_type": "markdown",
   "metadata": {},
   "source": [
    "* Cassandra use special primary key to represent wide rows. It consist of partition key and optional set of clustering columns\n",
    "* We can not change primary key after creation of table. Because it controls how the data are stored in cluster \n",
    "* Partition key is used to determine node at which row is stored.\n",
    "* Static column is used to store data that is not part of primary key but is shared by every rows in partition \n",
    "* Partition key identify each partition uniquely. Clustering key is to identify rows within the partition."
   ]
  },
  {
   "cell_type": "markdown",
   "metadata": {},
   "source": [
    "* Column : name value pair\n",
    "* row : container for column referenced by primary key. Contains ordered collection of columns\n",
    "* table: container for ordered collection of rows\n",
    "* keyspace : container for tables\n",
    "* cluster: container for keyspaces that spans on one or more nodes. Also known as ring.Cassandra assign data to nodes in the cluster by arranging them in ring."
   ]
  },
  {
   "cell_type": "code",
   "execution_count": 5,
   "metadata": {},
   "outputs": [
    {
     "data": {
      "text/plain": [
       "<cassandra.cluster.ResultSet at 0x1f55c141da0>"
      ]
     },
     "execution_count": 5,
     "metadata": {},
     "output_type": "execute_result"
    }
   ],
   "source": [
    "session.execute(\"\"\"\n",
    "    CREATE TABLE user (first_name text, last_name text, \n",
    "                       PRIMARY KEY (first_name));\n",
    "\"\"\")"
   ]
  },
  {
   "cell_type": "code",
   "execution_count": 6,
   "metadata": {},
   "outputs": [
    {
     "data": {
      "text/plain": [
       "<cassandra.cluster.ResultSet at 0x1f55bd615c0>"
      ]
     },
     "execution_count": 6,
     "metadata": {},
     "output_type": "execute_result"
    }
   ],
   "source": [
    "session.execute(\"\"\"\n",
    "    INSERT INTO user (first_name, last_name) VALUES ('purvil', 'dave')\n",
    "\"\"\")"
   ]
  },
  {
   "cell_type": "code",
   "execution_count": 9,
   "metadata": {},
   "outputs": [
    {
     "data": {
      "text/plain": [
       "<cassandra.cluster.ResultSet at 0x1f55c642128>"
      ]
     },
     "execution_count": 9,
     "metadata": {},
     "output_type": "execute_result"
    }
   ],
   "source": [
    "session.execute(\"\"\"\n",
    "    INSERT INTO user (first_name, last_name) VALUES ('japan', 'dave');\n",
    "    INSERT INTO user (first_name, last_name) VALUES ('bhavika', 'joshi');\n",
    "\"\"\")"
   ]
  },
  {
   "cell_type": "code",
   "execution_count": 10,
   "metadata": {},
   "outputs": [
    {
     "data": {
      "text/plain": [
       "<cassandra.cluster.ResultSet at 0x1f55c6423c8>"
      ]
     },
     "execution_count": 10,
     "metadata": {},
     "output_type": "execute_result"
    }
   ],
   "source": [
    "session.execute(\"\"\"\n",
    "    INSERT INTO user (first_name, last_name) VALUES ('bhavika', 'joshi');\n",
    "\"\"\")"
   ]
  },
  {
   "cell_type": "code",
   "execution_count": 16,
   "metadata": {},
   "outputs": [],
   "source": [
    "rows = session.execute('SELECT * FROM user')"
   ]
  },
  {
   "cell_type": "code",
   "execution_count": 17,
   "metadata": {},
   "outputs": [
    {
     "name": "stdout",
     "output_type": "stream",
     "text": [
      "Row(first_name='japan', last_name='dave')\n",
      "Row(first_name='purvil', last_name='dave')\n",
      "Row(first_name='bhavika', last_name='joshi')\n"
     ]
    }
   ],
   "source": [
    "for row in rows:\n",
    "    print(row)"
   ]
  },
  {
   "cell_type": "code",
   "execution_count": 18,
   "metadata": {},
   "outputs": [],
   "source": [
    "rows = session.execute('SELECT * FROM user')"
   ]
  },
  {
   "cell_type": "code",
   "execution_count": 19,
   "metadata": {},
   "outputs": [
    {
     "name": "stdout",
     "output_type": "stream",
     "text": [
      "japan\n",
      "purvil\n",
      "bhavika\n"
     ]
    }
   ],
   "source": [
    "for row in rows:\n",
    "    print(row.first_name)"
   ]
  },
  {
   "cell_type": "code",
   "execution_count": 20,
   "metadata": {},
   "outputs": [],
   "source": [
    "rows = session.execute('SELECT * FROM user')"
   ]
  },
  {
   "cell_type": "code",
   "execution_count": 21,
   "metadata": {},
   "outputs": [
    {
     "name": "stdout",
     "output_type": "stream",
     "text": [
      "japan dave\n",
      "purvil dave\n",
      "bhavika joshi\n"
     ]
    }
   ],
   "source": [
    "for (first, last) in rows:\n",
    "    print(first, last)"
   ]
  },
  {
   "cell_type": "code",
   "execution_count": 22,
   "metadata": {},
   "outputs": [],
   "source": [
    "rows = session.execute('SELECT * FROM user')"
   ]
  },
  {
   "cell_type": "code",
   "execution_count": 23,
   "metadata": {},
   "outputs": [
    {
     "name": "stdout",
     "output_type": "stream",
     "text": [
      "japan\n",
      "purvil\n",
      "bhavika\n"
     ]
    }
   ],
   "source": [
    "for row in rows:\n",
    "    print(row[0])"
   ]
  },
  {
   "cell_type": "markdown",
   "metadata": {},
   "source": [
    "#### Passing parameters"
   ]
  },
  {
   "cell_type": "code",
   "execution_count": 24,
   "metadata": {},
   "outputs": [
    {
     "data": {
      "text/plain": [
       "<cassandra.cluster.ResultSet at 0x1f55c647b00>"
      ]
     },
     "execution_count": 24,
     "metadata": {},
     "output_type": "execute_result"
    }
   ],
   "source": [
    "session.execute(\"\"\"\n",
    "    INSERT INTO user (first_name, last_name) VALUES (%s, %s)\n",
    "\"\"\", ('kamil', 'patel'))"
   ]
  },
  {
   "cell_type": "markdown",
   "metadata": {},
   "source": [
    "* `%s` placeholder is used for EVERY type."
   ]
  },
  {
   "cell_type": "code",
   "execution_count": 26,
   "metadata": {},
   "outputs": [
    {
     "data": {
      "text/plain": [
       "<cassandra.cluster.ResultSet at 0x1f55c38ca58>"
      ]
     },
     "execution_count": 26,
     "metadata": {},
     "output_type": "execute_result"
    }
   ],
   "source": [
    "session.execute(\"\"\"INSERT INTO user (first_name) VALUES (%s)\"\"\", ('harshil',))"
   ]
  },
  {
   "cell_type": "markdown",
   "metadata": {},
   "source": [
    "* we need sequence as parameter"
   ]
  },
  {
   "cell_type": "code",
   "execution_count": 27,
   "metadata": {},
   "outputs": [],
   "source": [
    "rows = session.execute('SELECT * FROM user')"
   ]
  },
  {
   "cell_type": "code",
   "execution_count": 28,
   "metadata": {},
   "outputs": [
    {
     "name": "stdout",
     "output_type": "stream",
     "text": [
      "Row(first_name='japan', last_name='dave')\n",
      "Row(first_name='purvil', last_name='dave')\n",
      "Row(first_name='kamil', last_name='patel')\n",
      "Row(first_name='harshil', last_name=None)\n",
      "Row(first_name='bhavika', last_name='joshi')\n"
     ]
    }
   ],
   "source": [
    "for row in rows:\n",
    "    print(row)"
   ]
  },
  {
   "cell_type": "code",
   "execution_count": 29,
   "metadata": {},
   "outputs": [
    {
     "data": {
      "text/plain": [
       "<cassandra.cluster.ResultSet at 0x1f55c651d68>"
      ]
     },
     "execution_count": 29,
     "metadata": {},
     "output_type": "execute_result"
    }
   ],
   "source": [
    "session.execute(\"\"\"ALTER TABLE user ADD title text\"\"\")"
   ]
  },
  {
   "cell_type": "code",
   "execution_count": 31,
   "metadata": {},
   "outputs": [],
   "source": [
    "rows = session.execute('SELECT * FROM user')"
   ]
  },
  {
   "cell_type": "code",
   "execution_count": 32,
   "metadata": {},
   "outputs": [
    {
     "name": "stdout",
     "output_type": "stream",
     "text": [
      "Row(first_name='japan', last_name='dave', title=None)\n",
      "Row(first_name='purvil', last_name='dave', title=None)\n",
      "Row(first_name='kamil', last_name='patel', title=None)\n",
      "Row(first_name='harshil', last_name=None, title=None)\n",
      "Row(first_name='bhavika', last_name='joshi', title=None)\n"
     ]
    }
   ],
   "source": [
    "for row in rows:\n",
    "    print(row)"
   ]
  },
  {
   "cell_type": "markdown",
   "metadata": {},
   "source": [
    "### Timestamps "
   ]
  },
  {
   "cell_type": "markdown",
   "metadata": {},
   "source": [
    "* For each column timestamp is updated when there is an update. During conflicts most recent timestamp change wins."
   ]
  },
  {
   "cell_type": "code",
   "execution_count": 33,
   "metadata": {},
   "outputs": [],
   "source": [
    "rows = session.execute(\"\"\"SELECT first_name, writetime(last_name) FROM user\"\"\")"
   ]
  },
  {
   "cell_type": "code",
   "execution_count": 35,
   "metadata": {},
   "outputs": [
    {
     "name": "stdout",
     "output_type": "stream",
     "text": [
      "Row(first_name='japan', writetime_last_name=1555002558416269)\n",
      "Row(first_name='purvil', writetime_last_name=1555001358641094)\n",
      "Row(first_name='kamil', writetime_last_name=1555003083521009)\n",
      "Row(first_name='harshil', writetime_last_name=None)\n",
      "Row(first_name='bhavika', writetime_last_name=1555002571475594)\n"
     ]
    }
   ],
   "source": [
    "for row in rows:\n",
    "    print(row)"
   ]
  },
  {
   "cell_type": "markdown",
   "metadata": {},
   "source": [
    "* We can NOT execute timestamp on primary key columns "
   ]
  },
  {
   "cell_type": "markdown",
   "metadata": {},
   "source": [
    "* We can specify timestamp manually too. But make sure specified timestamp is higher than last one for update."
   ]
  },
  {
   "cell_type": "code",
   "execution_count": 36,
   "metadata": {},
   "outputs": [
    {
     "data": {
      "text/plain": [
       "<cassandra.cluster.ResultSet at 0x1f55ca82a90>"
      ]
     },
     "execution_count": 36,
     "metadata": {},
     "output_type": "execute_result"
    }
   ],
   "source": [
    "session.execute(\"\"\"\n",
    "    UPDATE user USING timestamp 1555003083521555\n",
    "    SET last_name = 'mane' WHERE first_name = 'kamil';\n",
    "\"\"\")"
   ]
  },
  {
   "cell_type": "code",
   "execution_count": 37,
   "metadata": {},
   "outputs": [],
   "source": [
    "rows = session.execute(\"SELECT first_name, last_name, writetime(last_name) FROM user\")"
   ]
  },
  {
   "cell_type": "code",
   "execution_count": 38,
   "metadata": {},
   "outputs": [
    {
     "name": "stdout",
     "output_type": "stream",
     "text": [
      "Row(first_name='japan', last_name='dave', writetime_last_name=1555002558416269)\n",
      "Row(first_name='purvil', last_name='dave', writetime_last_name=1555001358641094)\n",
      "Row(first_name='kamil', last_name='mane', writetime_last_name=1555003083521555)\n",
      "Row(first_name='harshil', last_name=None, writetime_last_name=None)\n",
      "Row(first_name='bhavika', last_name='joshi', writetime_last_name=1555002571475594)\n"
     ]
    }
   ],
   "source": [
    "for row in rows:\n",
    "    print(row)"
   ]
  },
  {
   "cell_type": "markdown",
   "metadata": {},
   "source": [
    "### Time to live (TTL)\n",
    "* Expire data that is not needed. Works at individual column level. It tells how long cassandra will retain that column.\n",
    "![](images/cassandra_ttl.jpg)"
   ]
  },
  {
   "cell_type": "markdown",
   "metadata": {},
   "source": [
    "* TTL can not be set on primary key. TTL can not be set at row level"
   ]
  },
  {
   "cell_type": "markdown",
   "metadata": {},
   "source": [
    "## CQL Types\n",
    "\n",
    "### Numeric Types\n",
    "* `int` 32-bit signed\n",
    "* `bigint` 64-bit signed\n",
    "* `smallint` 16-bit signed\n",
    "* `tinyint` 8-bit signed\n",
    "* `varint` variable precision signed\n",
    "* `float` 32-bit\n",
    "* `double` 64:bit\n",
    "* `decimal` : variable precision decimal\n",
    "\n",
    "### Textual data types\n",
    "* `text`, `varchar` : unicode\n",
    "* `ascii` : ascii character string\n",
    "\n",
    "### Time and Identity types\n",
    "* `timestamp`: Each column has timestamp for last modified time. We can store timestamp in column too. It is encoded as 64 bit signed int.\n",
    "* `date`, `time`\n",
    "* `uuid` : Universal unique identifier. 128 bit. Using `uuid()` we can get Type 4 uuid value.\n",
    "* `timeuuid`: \n"
   ]
  },
  {
   "cell_type": "code",
   "execution_count": 39,
   "metadata": {},
   "outputs": [
    {
     "data": {
      "text/plain": [
       "<cassandra.cluster.ResultSet at 0x1f55c8eb6a0>"
      ]
     },
     "execution_count": 39,
     "metadata": {},
     "output_type": "execute_result"
    }
   ],
   "source": [
    "session.execute('ALTER TABLE user ADD id uuid;')"
   ]
  },
  {
   "cell_type": "code",
   "execution_count": 41,
   "metadata": {},
   "outputs": [
    {
     "data": {
      "text/plain": [
       "<cassandra.cluster.ResultSet at 0x1f55cb12518>"
      ]
     },
     "execution_count": 41,
     "metadata": {},
     "output_type": "execute_result"
    }
   ],
   "source": [
    "session.execute(\"UPDATE user SET id = uuid() WHERE first_name = 'purvil'\")"
   ]
  },
  {
   "cell_type": "code",
   "execution_count": 42,
   "metadata": {},
   "outputs": [],
   "source": [
    "rows = session.execute('SELECT * FROM user')"
   ]
  },
  {
   "cell_type": "code",
   "execution_count": 43,
   "metadata": {},
   "outputs": [
    {
     "name": "stdout",
     "output_type": "stream",
     "text": [
      "Row(first_name='japan', id=None, last_name='dave', title=None)\n",
      "Row(first_name='purvil', id=UUID('22addefc-0998-430d-9279-a63bfe7de7d4'), last_name='dave', title=None)\n",
      "Row(first_name='kamil', id=None, last_name='mane', title=None)\n",
      "Row(first_name='harshil', id=None, last_name=None, title=None)\n",
      "Row(first_name='bhavika', id=None, last_name='joshi', title=None)\n"
     ]
    }
   ],
   "source": [
    "for row in rows:\n",
    "    print(row)"
   ]
  },
  {
   "cell_type": "markdown",
   "metadata": {},
   "source": [
    "* `boolean` : true/false\n",
    "* `blob` binary large object. arbitrary array of bytes. Storing media file. To store text data as blob use `textAsBlob()`\n",
    "* `inet` : ipv4 or ipv6 address\n",
    "* `counter` : 64 bit signed int. Its values can not be set directly. only incremented or decremented. number of page view, retweets. It can not be used as PK.If used then all column must be of type counter."
   ]
  },
  {
   "cell_type": "markdown",
   "metadata": {},
   "source": [
    "### Collections\n",
    "\n",
    "#### set:\n",
    "* unordered collections of element. cqlsh returns element in order.\n"
   ]
  },
  {
   "cell_type": "code",
   "execution_count": 44,
   "metadata": {},
   "outputs": [
    {
     "data": {
      "text/plain": [
       "<cassandra.cluster.ResultSet at 0x1f55c1dd438>"
      ]
     },
     "execution_count": 44,
     "metadata": {},
     "output_type": "execute_result"
    }
   ],
   "source": [
    "session.execute('ALTER TABLE user ADD emails set<text>;')"
   ]
  },
  {
   "cell_type": "code",
   "execution_count": 48,
   "metadata": {},
   "outputs": [
    {
     "data": {
      "text/plain": [
       "<cassandra.cluster.ResultSet at 0x1f55ca6e048>"
      ]
     },
     "execution_count": 48,
     "metadata": {},
     "output_type": "execute_result"
    }
   ],
   "source": [
    "session.execute(\"UPDATE user SET emails = {'davepurvil@gmail.com'} WHERE first_name = 'purvil'\")"
   ]
  },
  {
   "cell_type": "code",
   "execution_count": 59,
   "metadata": {},
   "outputs": [],
   "source": [
    "rows = session.execute(\"\"\"SELECT * FROM user WHERE first_name = 'purvil';\"\"\")"
   ]
  },
  {
   "cell_type": "code",
   "execution_count": 60,
   "metadata": {},
   "outputs": [
    {
     "name": "stdout",
     "output_type": "stream",
     "text": [
      "[Row(first_name='purvil', emails=SortedSet(['davepurvil@gmail.com']), id=UUID('22addefc-0998-430d-9279-a63bfe7de7d4'), last_name='dave', title=None)]\n"
     ]
    }
   ],
   "source": [
    "print([*rows])"
   ]
  },
  {
   "cell_type": "code",
   "execution_count": 62,
   "metadata": {},
   "outputs": [
    {
     "data": {
      "text/plain": [
       "<cassandra.cluster.ResultSet at 0x1f55ca71be0>"
      ]
     },
     "execution_count": 62,
     "metadata": {},
     "output_type": "execute_result"
    }
   ],
   "source": [
    "session.execute(\"\"\"UPDATE user SET emails = emails + {'dpurvil@gmail.com'} WHERE first_name = 'purvil'\"\"\")"
   ]
  },
  {
   "cell_type": "code",
   "execution_count": 63,
   "metadata": {},
   "outputs": [],
   "source": [
    "rows = session.execute(\"\"\"SELECT * FROM user WHERE first_name = 'purvil';\"\"\")"
   ]
  },
  {
   "cell_type": "code",
   "execution_count": 64,
   "metadata": {},
   "outputs": [
    {
     "name": "stdout",
     "output_type": "stream",
     "text": [
      "[Row(first_name='purvil', emails=SortedSet(['davepurvil@gmail.com', 'dpurvil@gmail.com']), id=UUID('22addefc-0998-430d-9279-a63bfe7de7d4'), last_name='dave', title=None)]\n"
     ]
    }
   ],
   "source": [
    "print([*rows])"
   ]
  },
  {
   "cell_type": "markdown",
   "metadata": {},
   "source": [
    "* To cleat from set use `SET emails = emails - {'dpurvil@gmail.com'}` or `SET emails = {}`"
   ]
  },
  {
   "cell_type": "markdown",
   "metadata": {},
   "source": [
    "#### list:\n",
    "* Values stored as an order of insertion."
   ]
  },
  {
   "cell_type": "code",
   "execution_count": 65,
   "metadata": {},
   "outputs": [
    {
     "data": {
      "text/plain": [
       "<cassandra.cluster.ResultSet at 0x1f55c1d39e8>"
      ]
     },
     "execution_count": 65,
     "metadata": {},
     "output_type": "execute_result"
    }
   ],
   "source": [
    "session.execute(\"\"\"ALTER TABLE user ADD phones list<text>\"\"\")"
   ]
  },
  {
   "cell_type": "code",
   "execution_count": 66,
   "metadata": {},
   "outputs": [
    {
     "data": {
      "text/plain": [
       "<cassandra.cluster.ResultSet at 0x1f55c6459b0>"
      ]
     },
     "execution_count": 66,
     "metadata": {},
     "output_type": "execute_result"
    }
   ],
   "source": [
    "session.execute(\"\"\"UPDATE user SET phones = ['8582848142'] WHERE first_name = 'purvil'\"\"\")"
   ]
  },
  {
   "cell_type": "code",
   "execution_count": 68,
   "metadata": {},
   "outputs": [],
   "source": [
    "rows = session.execute(\"SELECT * FROM user WHERE first_name = 'purvil'\")"
   ]
  },
  {
   "cell_type": "code",
   "execution_count": 69,
   "metadata": {},
   "outputs": [
    {
     "name": "stdout",
     "output_type": "stream",
     "text": [
      "[Row(first_name='purvil', emails=SortedSet(['davepurvil@gmail.com', 'dpurvil@gmail.com']), id=UUID('22addefc-0998-430d-9279-a63bfe7de7d4'), last_name='dave', phones=['8582848142'], title=None)]\n"
     ]
    }
   ],
   "source": [
    "print([*rows])"
   ]
  },
  {
   "cell_type": "code",
   "execution_count": 70,
   "metadata": {},
   "outputs": [
    {
     "data": {
      "text/plain": [
       "<cassandra.cluster.ResultSet at 0x1f55ca8da90>"
      ]
     },
     "execution_count": 70,
     "metadata": {},
     "output_type": "execute_result"
    }
   ],
   "source": [
    "session.execute(\"\"\"UPDATE user SET phones = phones + ['6196458947'] WHERE first_name = 'purvil'\"\"\")"
   ]
  },
  {
   "cell_type": "code",
   "execution_count": 71,
   "metadata": {},
   "outputs": [],
   "source": [
    "rows = session.execute(\"SELECT * FROM user WHERE first_name = 'purvil'\")"
   ]
  },
  {
   "cell_type": "code",
   "execution_count": 72,
   "metadata": {},
   "outputs": [
    {
     "name": "stdout",
     "output_type": "stream",
     "text": [
      "[Row(first_name='purvil', emails=SortedSet(['davepurvil@gmail.com', 'dpurvil@gmail.com']), id=UUID('22addefc-0998-430d-9279-a63bfe7de7d4'), last_name='dave', phones=['8582848142', '6196458947'], title=None)]\n"
     ]
    }
   ],
   "source": [
    "print([*rows])"
   ]
  },
  {
   "cell_type": "code",
   "execution_count": 73,
   "metadata": {},
   "outputs": [
    {
     "data": {
      "text/plain": [
       "<cassandra.cluster.ResultSet at 0x1f55c1dd9e8>"
      ]
     },
     "execution_count": 73,
     "metadata": {},
     "output_type": "execute_result"
    }
   ],
   "source": [
    "session.execute(\"\"\"UPDATE user SET phones[1] = '6193056075' WHERE first_name = 'purvil'\"\"\")"
   ]
  },
  {
   "cell_type": "code",
   "execution_count": 74,
   "metadata": {},
   "outputs": [],
   "source": [
    "rows = session.execute(\"SELECT * FROM user WHERE first_name = 'purvil'\")"
   ]
  },
  {
   "cell_type": "code",
   "execution_count": 75,
   "metadata": {},
   "outputs": [
    {
     "name": "stdout",
     "output_type": "stream",
     "text": [
      "[Row(first_name='purvil', emails=SortedSet(['davepurvil@gmail.com', 'dpurvil@gmail.com']), id=UUID('22addefc-0998-430d-9279-a63bfe7de7d4'), last_name='dave', phones=['8582848142', '6193056075'], title=None)]\n"
     ]
    }
   ],
   "source": [
    "print([*rows])"
   ]
  },
  {
   "cell_type": "code",
   "execution_count": 76,
   "metadata": {},
   "outputs": [
    {
     "data": {
      "text/plain": [
       "<cassandra.cluster.ResultSet at 0x1f55cb43630>"
      ]
     },
     "execution_count": 76,
     "metadata": {},
     "output_type": "execute_result"
    }
   ],
   "source": [
    "session.execute(\"\"\"DELETE phones[1] from user WHERE first_name = 'purvil'\"\"\")"
   ]
  },
  {
   "cell_type": "code",
   "execution_count": 77,
   "metadata": {},
   "outputs": [],
   "source": [
    "rows = session.execute(\"SELECT * FROM user WHERE first_name = 'purvil'\")"
   ]
  },
  {
   "cell_type": "code",
   "execution_count": 78,
   "metadata": {},
   "outputs": [
    {
     "name": "stdout",
     "output_type": "stream",
     "text": [
      "[Row(first_name='purvil', emails=SortedSet(['davepurvil@gmail.com', 'dpurvil@gmail.com']), id=UUID('22addefc-0998-430d-9279-a63bfe7de7d4'), last_name='dave', phones=['8582848142'], title=None)]\n"
     ]
    }
   ],
   "source": [
    "print([*rows])"
   ]
  },
  {
   "cell_type": "markdown",
   "metadata": {},
   "source": [
    "#### map\n",
    "* collection of key/value pair. key value can be of any type except counter."
   ]
  },
  {
   "cell_type": "code",
   "execution_count": 79,
   "metadata": {},
   "outputs": [
    {
     "data": {
      "text/plain": [
       "<cassandra.cluster.ResultSet at 0x1f55c1e0f98>"
      ]
     },
     "execution_count": 79,
     "metadata": {},
     "output_type": "execute_result"
    }
   ],
   "source": [
    "session.execute(\"\"\"ALTER TABLE user ADD login map<timeuuid, int>;\"\"\")"
   ]
  },
  {
   "cell_type": "code",
   "execution_count": 81,
   "metadata": {},
   "outputs": [
    {
     "data": {
      "text/plain": [
       "<cassandra.cluster.ResultSet at 0x1f55c3920b8>"
      ]
     },
     "execution_count": 81,
     "metadata": {},
     "output_type": "execute_result"
    }
   ],
   "source": [
    "session.execute(\"\"\"UPDATE user SET login = {now():13, now():18} WHERE first_name = 'japan'\"\"\")"
   ]
  },
  {
   "cell_type": "code",
   "execution_count": 82,
   "metadata": {},
   "outputs": [],
   "source": [
    "rows = session.execute(\"SELECT * FROM user WHERE first_name = 'japan'\")"
   ]
  },
  {
   "cell_type": "code",
   "execution_count": 83,
   "metadata": {},
   "outputs": [
    {
     "data": {
      "text/plain": [
       "[Row(first_name='japan', emails=None, id=None, last_name='dave', login=OrderedMapSerializedKey([(UUID('0984f5c0-5c92-11e9-b6d5-bf15282b75bb'), 13), (UUID('0984f5c1-5c92-11e9-b6d5-bf15282b75bb'), 18)]), phones=None, title=None)]"
      ]
     },
     "execution_count": 83,
     "metadata": {},
     "output_type": "execute_result"
    }
   ],
   "source": [
    "[*rows]"
   ]
  },
  {
   "cell_type": "markdown",
   "metadata": {},
   "source": [
    "### User defined type"
   ]
  },
  {
   "cell_type": "code",
   "execution_count": 84,
   "metadata": {},
   "outputs": [
    {
     "data": {
      "text/plain": [
       "<cassandra.cluster.ResultSet at 0x1f55c1e0438>"
      ]
     },
     "execution_count": 84,
     "metadata": {},
     "output_type": "execute_result"
    }
   ],
   "source": [
    "session.execute(\"\"\"CREATE TYPE address (\n",
    "                                        street text,\n",
    "                                        city text,\n",
    "                                        state text,\n",
    "                                        zip_code int);\"\"\")"
   ]
  },
  {
   "cell_type": "code",
   "execution_count": 86,
   "metadata": {},
   "outputs": [
    {
     "data": {
      "text/plain": [
       "<cassandra.cluster.ResultSet at 0x1f55cb51da0>"
      ]
     },
     "execution_count": 86,
     "metadata": {},
     "output_type": "execute_result"
    }
   ],
   "source": [
    "session.execute(\"\"\"ALTER TABLE user ADD addresses map<text, frozen<address>>;\"\"\")"
   ]
  },
  {
   "cell_type": "code",
   "execution_count": 88,
   "metadata": {},
   "outputs": [
    {
     "data": {
      "text/plain": [
       "<cassandra.cluster.ResultSet at 0x1f55ce25208>"
      ]
     },
     "execution_count": 88,
     "metadata": {},
     "output_type": "execute_result"
    }
   ],
   "source": [
    "session.execute(\"\"\"UPDATE user SET addresses = addresses + {'home':{street:'11145 Camino', city: 'SD', state:'CA', zip_code:92126}} WHERE first_name = 'purvil'\"\"\")"
   ]
  },
  {
   "cell_type": "markdown",
   "metadata": {},
   "source": [
    "![](images/describe.jpg)"
   ]
  },
  {
   "cell_type": "markdown",
   "metadata": {},
   "source": [
    "### Secondary Index\n",
    "* Filtering on non primary key column is not allowed.\n",
    "* To do so create secondary Index."
   ]
  },
  {
   "cell_type": "code",
   "execution_count": 89,
   "metadata": {},
   "outputs": [
    {
     "data": {
      "text/plain": [
       "<cassandra.cluster.ResultSet at 0x1f55ce25320>"
      ]
     },
     "execution_count": 89,
     "metadata": {},
     "output_type": "execute_result"
    }
   ],
   "source": [
    "session.execute(\"\"\"CREATE INDEX ON user (last_name);\"\"\")"
   ]
  },
  {
   "cell_type": "code",
   "execution_count": 90,
   "metadata": {},
   "outputs": [],
   "source": [
    "rows = session.execute(\"\"\"SELECT * FROM user WHERE last_name = 'dave'\"\"\")"
   ]
  },
  {
   "cell_type": "code",
   "execution_count": 91,
   "metadata": {},
   "outputs": [
    {
     "data": {
      "text/plain": [
       "[Row(first_name='japan', addresses=None, emails=None, id=None, last_name='dave', login=OrderedMapSerializedKey([(UUID('0984f5c0-5c92-11e9-b6d5-bf15282b75bb'), 13), (UUID('0984f5c1-5c92-11e9-b6d5-bf15282b75bb'), 18)]), phones=None, title=None),\n",
       " Row(first_name='purvil', addresses=OrderedMapSerializedKey([('home', address(street='11145 Camino', city='SD', state='CA', zip_code=92126))]), emails=SortedSet(['davepurvil@gmail.com', 'dpurvil@gmail.com']), id=UUID('22addefc-0998-430d-9279-a63bfe7de7d4'), last_name='dave', login=None, phones=['8582848142'], title=None)]"
      ]
     },
     "execution_count": 91,
     "metadata": {},
     "output_type": "execute_result"
    }
   ],
   "source": [
    "[*rows]"
   ]
  },
  {
   "cell_type": "markdown",
   "metadata": {},
   "source": [
    "* We can index on set, list, map too. To index on key of map use `KEY(map)`.\n",
    "* `DROP INDEX user_last_name_idx` to drop index."
   ]
  },
  {
   "cell_type": "markdown",
   "metadata": {},
   "source": [
    "* Secondary index is not good,\n",
    "    - Columns with high cardinality. indexing on address is expensive as most of the records are unique\n",
    "    - Columns with low cardinality. Indexing row will become huge. imagine indexing on title\n",
    "    - columns frequently updated or deleted."
   ]
  },
  {
   "cell_type": "markdown",
   "metadata": {},
   "source": [
    "* For optimal read performance denormalized table design or materialized view is preferable."
   ]
  },
  {
   "cell_type": "markdown",
   "metadata": {},
   "source": [
    "#### SSTable attached secondary index (SASI)\n",
    "* Calculated and stored as a part of each SSTable file, whereas typical secondary index are stored in separate hidden table."
   ]
  },
  {
   "cell_type": "code",
   "execution_count": 93,
   "metadata": {},
   "outputs": [
    {
     "data": {
      "text/plain": [
       "<cassandra.cluster.ResultSet at 0x1f55ca71748>"
      ]
     },
     "execution_count": 93,
     "metadata": {},
     "output_type": "execute_result"
    }
   ],
   "source": [
    "session.execute(\"\"\"CREATE CUSTOM INDEX user_last_name_sasi_idx ON user (last_name) USING 'org.apache.cassandra.index.sasi.SASIIndex'\"\"\")"
   ]
  },
  {
   "cell_type": "markdown",
   "metadata": {},
   "source": [
    "* We can do inequality search (>, <) and LIKE keyword with SASI."
   ]
  },
  {
   "cell_type": "markdown",
   "metadata": {},
   "source": [
    "### Hotel reservation model\n",
    "![](images/hotel.png)"
   ]
  },
  {
   "cell_type": "markdown",
   "metadata": {},
   "source": [
    "#### RDBMS design:\n",
    "* We model as normalized tables and use foreign key to reference related data in other table.\n",
    "* There can be couple of join tables to show many to many relationship.\n",
    "![](images/RDBMS_hotel.png)"
   ]
  },
  {
   "cell_type": "markdown",
   "metadata": {},
   "source": [
    "* We can NOT perform join in Cassandra. Either generate join at client side or make denormalize table (preferable)\n",
    "* No referential integrity. Of course we can store IDs related to other table but there is NO cascading deletes.\n",
    "* Denormalization: JOINs are expensive for large data. so we can denormalize data for frequent queries. In Relational database it violates codd's normal form rule. But in Cassandra denormalization is normal.\n",
    "* Query first design: IN RDBMS we model database around the data. We use domain, attribute, real world entities, primary key, foreign key, join table for many to many relationship. And if our model is perfect we can get any data using complex subqueries and JOINs.\n",
    "* In cassandra we model the queries first and let data organize as per query. Think most common query path the application will use and store data or create table to accomodate need.\n",
    "* How to store data physically: In RDBMS we do not care about how data are stored in table. Because there is a typical way and all follows that. In Cassamdra each table are stored in different file on disk. So keep related columns on same table. Also we want to minimize number or partition we have to search to answer query.Partition is unit storage that is not divided across the nodes, minimal partition search means higher performance.\n",
    "* In Relational database we can ORDER BY using any columns but in cassandra we have to mention clustering columns at the time of CREATE TABLE. and only on such columns we can order our data."
   ]
  },
  {
   "cell_type": "markdown",
   "metadata": {},
   "source": [
    "#### Defining application queries\n",
    "* Q1. Find hotels near a given point of interest.\n",
    "* Q2. Find information about a given hotel, such as its name and location.\n",
    "* Q3. Find points of interest near a given hotel.\n",
    "* Q4. Find an available room in a given date range.\n",
    "* Q5. Find the rate and amenities for a room.\n",
    "* Q6. Lookup a reservation by confirmation number.\n",
    "* Q7. Lookup a reservation by hotel, date, and guest name.\n",
    "* Q8. Lookup all reservations by guest name.\n",
    "* Q9. View guest details."
   ]
  },
  {
   "cell_type": "markdown",
   "metadata": {},
   "source": [
    "![](images/hotel_cassandra.png)"
   ]
  },
  {
   "cell_type": "markdown",
   "metadata": {},
   "source": [
    "* Each box accomplish certain task which unlocks subsequent steps. With Q1 we get hotel id near to POI. Using that hotel id we can fetch hotel info in Q2. Booking the room will cause write in reservation and guest records."
   ]
  },
  {
   "cell_type": "markdown",
   "metadata": {},
   "source": [
    "#### Logical data model\n",
    "* we create table for each query, which capture relationship and entities from above conceptual model\n",
    "* We name each table on primary entity of that table. Identify primary key, add partition key based on required query attributes and clustering columns in order to generate uniqueness and support desired sort order. Add additional attributes if needed by query. If additional attributes are same for every instance of partition key we make column static."
   ]
  },
  {
   "cell_type": "markdown",
   "metadata": {},
   "source": [
    "![](images/chebotko.png)"
   ]
  },
  {
   "cell_type": "markdown",
   "metadata": {},
   "source": [
    "![](images/physical.png)"
   ]
  },
  {
   "cell_type": "markdown",
   "metadata": {},
   "source": [
    "#### Hotel logical"
   ]
  },
  {
   "cell_type": "markdown",
   "metadata": {},
   "source": [
    "![](images/hotel_logical.png)"
   ]
  },
  {
   "cell_type": "markdown",
   "metadata": {},
   "source": [
    "#### Hotel physical"
   ]
  },
  {
   "cell_type": "markdown",
   "metadata": {},
   "source": [
    "![](images/hotel_physical.png)"
   ]
  },
  {
   "cell_type": "markdown",
   "metadata": {},
   "source": [
    "* There is no dedicated rooms or amenities as in relational database.\n",
    "* In Q1 we have name of POI, so we keep that as primary key. There are many hotel near POI to have unique partition for each hotel we use hotel_id as clustering column."
   ]
  },
  {
   "cell_type": "code",
   "execution_count": 94,
   "metadata": {},
   "outputs": [
    {
     "data": {
      "text/plain": [
       "<cassandra.cluster.ResultSet at 0x1f55cb650f0>"
      ]
     },
     "execution_count": 94,
     "metadata": {},
     "output_type": "execute_result"
    }
   ],
   "source": [
    "session.execute(\"\"\"CREATE KEYSPACE hotel WITH replication = {'class':'SimpleStrategy', 'replication_factor':3};\"\"\")"
   ]
  },
  {
   "cell_type": "code",
   "execution_count": 96,
   "metadata": {},
   "outputs": [],
   "source": [
    "session.set_keyspace('hotel')"
   ]
  },
  {
   "cell_type": "code",
   "execution_count": 97,
   "metadata": {},
   "outputs": [
    {
     "data": {
      "text/plain": [
       "<cassandra.cluster.ResultSet at 0x1f55cb51c50>"
      ]
     },
     "execution_count": 97,
     "metadata": {},
     "output_type": "execute_result"
    }
   ],
   "source": [
    "session.execute(\"\"\"\n",
    "        CREATE TYPE address (\n",
    "            street text,\n",
    "            city text,\n",
    "            state text,\n",
    "            zip_code text,\n",
    "            country text\n",
    "        );\n",
    "\"\"\")"
   ]
  },
  {
   "cell_type": "code",
   "execution_count": 102,
   "metadata": {},
   "outputs": [
    {
     "data": {
      "text/plain": [
       "<cassandra.cluster.ResultSet at 0x1f55cb51ef0>"
      ]
     },
     "execution_count": 102,
     "metadata": {},
     "output_type": "execute_result"
    }
   ],
   "source": [
    "session.execute(\"\"\"DROP TABLE hotels_by_poi\"\"\")"
   ]
  },
  {
   "cell_type": "code",
   "execution_count": 103,
   "metadata": {},
   "outputs": [
    {
     "data": {
      "text/plain": [
       "<cassandra.cluster.ResultSet at 0x1f55ce17b70>"
      ]
     },
     "execution_count": 103,
     "metadata": {},
     "output_type": "execute_result"
    }
   ],
   "source": [
    "session.execute(\"\"\"\n",
    "        CREATE TABLE hotels_by_poi(\n",
    "            poi_name text,\n",
    "            hotel_id text,\n",
    "            name text,\n",
    "            phone text,\n",
    "            address frozen<address>,\n",
    "            PRIMARY KEY ((poi_name), hotel_id)\n",
    "        ) WITH comment = 'Q1 Find hotels near given poi' AND CLUSTERING ORDER BY (hotel_id ASC);\n",
    "\"\"\")"
   ]
  },
  {
   "cell_type": "markdown",
   "metadata": {},
   "source": [
    "* From Q1 we already know hotel_id, so in Q2 we can directly fetch data."
   ]
  },
  {
   "cell_type": "code",
   "execution_count": 104,
   "metadata": {},
   "outputs": [
    {
     "data": {
      "text/plain": [
       "<cassandra.cluster.ResultSet at 0x1f55ce17ac8>"
      ]
     },
     "execution_count": 104,
     "metadata": {},
     "output_type": "execute_result"
    }
   ],
   "source": [
    "session.execute(\"\"\"\n",
    "    CREATE TABLE hotels (\n",
    "        id text PRIMARY KEY,\n",
    "        name text,\n",
    "        phone text,\n",
    "        address frozen<address>,\n",
    "        pois set<text>\n",
    "    ) WITH comment = 'Q2. Find information about a hotel';\n",
    "\"\"\")"
   ]
  },
  {
   "cell_type": "markdown",
   "metadata": {},
   "source": [
    "* Q3 is reverse of Q1."
   ]
  },
  {
   "cell_type": "code",
   "execution_count": 105,
   "metadata": {},
   "outputs": [
    {
     "data": {
      "text/plain": [
       "<cassandra.cluster.ResultSet at 0x1f55cb605f8>"
      ]
     },
     "execution_count": 105,
     "metadata": {},
     "output_type": "execute_result"
    }
   ],
   "source": [
    "session.execute(\"\"\"\n",
    "    CREATE TABLE pois_by_hotel (\n",
    "        poi_name text,\n",
    "        hotel_id text,\n",
    "        description text,\n",
    "        PRIMARY KEY ((hotel_id), poi_name)\n",
    "    ) WITH comment = 'Q3. Find pois near a hotel';\n",
    "\"\"\")"
   ]
  },
  {
   "cell_type": "markdown",
   "metadata": {},
   "source": [
    "* In Q4 we have hotel id and we want to find available rooms.\n",
    "* hotel_id will be the primary key to group all rooms of single hotel in single partition.\n",
    "* date is clustering key."
   ]
  },
  {
   "cell_type": "code",
   "execution_count": 106,
   "metadata": {},
   "outputs": [
    {
     "data": {
      "text/plain": [
       "<cassandra.cluster.ResultSet at 0x1f55c9019b0>"
      ]
     },
     "execution_count": 106,
     "metadata": {},
     "output_type": "execute_result"
    }
   ],
   "source": [
    "session.execute(\"\"\"\n",
    "    CREATE TABLE available_rooms_by_hotel_date (\n",
    "        hotel_id text,\n",
    "        date date,\n",
    "        room_number smallint,\n",
    "        is_available boolean,\n",
    "        PRIMARY KEY ((hotel_id), date, room_number)\n",
    "    ) WITH comment = 'Q4. Find available rooms by hotel / date';\n",
    "\n",
    "\"\"\")"
   ]
  },
  {
   "cell_type": "code",
   "execution_count": 107,
   "metadata": {},
   "outputs": [
    {
     "data": {
      "text/plain": [
       "<cassandra.cluster.ResultSet at 0x1f55ce52fd0>"
      ]
     },
     "execution_count": 107,
     "metadata": {},
     "output_type": "execute_result"
    }
   ],
   "source": [
    "session.execute(\"\"\"\n",
    "    CREATE TABLE hotel.amenities_by_room (\n",
    "        hotel_id text,\n",
    "        room_number smallint,\n",
    "        amenity_name text,\n",
    "        description text,\n",
    "        PRIMARY KEY ((hotel_id, room_number), amenity_name)\n",
    "    ) WITH comment = 'Q5. Find amenities for a room';\n",
    "\n",
    "\"\"\")"
   ]
  },
  {
   "cell_type": "markdown",
   "metadata": {},
   "source": [
    "#### Reservation logical data model"
   ]
  },
  {
   "cell_type": "markdown",
   "metadata": {},
   "source": [
    "![](images/reservation_logical.png)"
   ]
  },
  {
   "cell_type": "markdown",
   "metadata": {},
   "source": [
    "#### Reservation Physical"
   ]
  },
  {
   "cell_type": "markdown",
   "metadata": {},
   "source": [
    "![](images/reservation_physical.png)"
   ]
  },
  {
   "cell_type": "markdown",
   "metadata": {},
   "source": [
    "* Same data accessed in different way with different keys.\n",
    "* We can accomplish it by denormalized table or materialized views.\n",
    "* Materialized view stores preconfigured view that support queries on additional column which is not part of additional clustering keys.\n",
    "* When we generate denormalized table it is our responsibility to keep them in sync. But materialized table are synced by cassandra with base table. So during write to base table there is a performance loss to keep them sync.\n",
    "* Because of higher cardinality, reservation_by_confirmation is great candidate of materialized view."
   ]
  },
  {
   "cell_type": "code",
   "execution_count": 108,
   "metadata": {},
   "outputs": [
    {
     "data": {
      "text/plain": [
       "<cassandra.cluster.ResultSet at 0x1f55ce520b8>"
      ]
     },
     "execution_count": 108,
     "metadata": {},
     "output_type": "execute_result"
    }
   ],
   "source": [
    "session.execute(\"\"\"\n",
    "    CREATE KEYSPACE reservation\n",
    "        WITH replication = {'class': 'SimpleStrategy', 'replication_factor' : 3};\n",
    "\"\"\")"
   ]
  },
  {
   "cell_type": "code",
   "execution_count": 109,
   "metadata": {},
   "outputs": [],
   "source": [
    "session.set_keyspace('reservation')"
   ]
  },
  {
   "cell_type": "code",
   "execution_count": 110,
   "metadata": {},
   "outputs": [
    {
     "data": {
      "text/plain": [
       "<cassandra.cluster.ResultSet at 0x1f55ceb4d68>"
      ]
     },
     "execution_count": 110,
     "metadata": {},
     "output_type": "execute_result"
    }
   ],
   "source": [
    "session.execute(\"\"\"\n",
    "    CREATE TYPE address (\n",
    "        street text,\n",
    "        city text,\n",
    "        state_or_province text,\n",
    "        postal_code text,\n",
    "        country text\n",
    "    );\n",
    "\"\"\")"
   ]
  },
  {
   "cell_type": "code",
   "execution_count": 113,
   "metadata": {},
   "outputs": [
    {
     "data": {
      "text/plain": [
       "<cassandra.cluster.ResultSet at 0x1f55ce7ad68>"
      ]
     },
     "execution_count": 113,
     "metadata": {},
     "output_type": "execute_result"
    }
   ],
   "source": [
    "session.execute(\"\"\"\n",
    "    CREATE TABLE reservations_by_hotel_date (\n",
    "        hotel_id text,\n",
    "        start_date date,\n",
    "        end_date date,\n",
    "        room_number smallint,\n",
    "        confirm_number text,\n",
    "        guest_id uuid,\n",
    "        PRIMARY KEY ((hotel_id, start_date), room_number)\n",
    "    ) WITH comment = 'Q7. Find reservations by hotel and date';\n",
    "\"\"\")"
   ]
  },
  {
   "cell_type": "code",
   "execution_count": 114,
   "metadata": {},
   "outputs": [
    {
     "name": "stderr",
     "output_type": "stream",
     "text": [
      "WARNING:cassandra.protocol:Server warning: Materialized views are experimental and are not recommended for production use.\n"
     ]
    },
    {
     "data": {
      "text/plain": [
       "<cassandra.cluster.ResultSet at 0x1f55ce9a278>"
      ]
     },
     "execution_count": 114,
     "metadata": {},
     "output_type": "execute_result"
    }
   ],
   "source": [
    "session.execute(\"\"\"\n",
    "        CREATE MATERIALIZED VIEW reservations_by_confirmation AS\n",
    "        SELECT * FROM reservation.reservations_by_hotel_date\n",
    "        WHERE confirm_number IS NOT NULL and hotel_id IS NOT NULL and\n",
    "            start_date IS NOT NULL and room_number IS NOT NULL\n",
    "        PRIMARY KEY (confirm_number, hotel_id, start_date, room_number);\n",
    "\"\"\")"
   ]
  },
  {
   "cell_type": "code",
   "execution_count": 115,
   "metadata": {},
   "outputs": [
    {
     "data": {
      "text/plain": [
       "<cassandra.cluster.ResultSet at 0x1f55ce9aeb8>"
      ]
     },
     "execution_count": 115,
     "metadata": {},
     "output_type": "execute_result"
    }
   ],
   "source": [
    "session.execute(\"\"\"\n",
    "    CREATE TABLE reservations_by_guest (\n",
    "        guest_last_name text,\n",
    "        hotel_id text,\n",
    "        start_date date,\n",
    "        end_date date,\n",
    "        room_number smallint,\n",
    "        confirm_number text,\n",
    "        guest_id uuid,\n",
    "        PRIMARY KEY ((guest_last_name), hotel_id)\n",
    "    ) WITH comment = 'Q8. Find reservations by guest name';\n",
    "\"\"\")"
   ]
  },
  {
   "cell_type": "code",
   "execution_count": 116,
   "metadata": {},
   "outputs": [
    {
     "data": {
      "text/plain": [
       "<cassandra.cluster.ResultSet at 0x1f55cea0a20>"
      ]
     },
     "execution_count": 116,
     "metadata": {},
     "output_type": "execute_result"
    }
   ],
   "source": [
    "session.execute(\"\"\"\n",
    "    CREATE TABLE guests (\n",
    "        guest_id uuid PRIMARY KEY,\n",
    "        first_name text,\n",
    "        last_name text,\n",
    "        title text,\n",
    "        emails set<text>,\n",
    "        phone_numbers list<text>,\n",
    "        addresses map<text, frozen<address>>,\n",
    "        confirm_number text\n",
    "    ) WITH comment = 'Q9. Find guest by ID';\n",
    "\"\"\")"
   ]
  },
  {
   "cell_type": "markdown",
   "metadata": {},
   "source": [
    "* Time series pattern is special case of wide row pattern where series of measurements at specific time interval are stored in wide row. Measurement time is used as partition key."
   ]
  },
  {
   "cell_type": "markdown",
   "metadata": {},
   "source": [
    "## Architecture"
   ]
  },
  {
   "cell_type": "markdown",
   "metadata": {},
   "source": [
    "* Racks : logical set of nodes in close proximity\n",
    "* Dara center : logical set of Racks in same building and connected by reliable network.\n",
    "* Default is single Data center DC1 and single rack RAC1.\n",
    "* Cassandra store copies in multiple DC to maximize availability and partition tolerance.\n",
    "\n",
    "### Gossip and failure detection\n",
    "* Supports decentralized and fault tolerance, cassandra uses gossip protocol, which runs every second.\n",
    "* Gossiper class maintain list of alive and dead nodes.\n",
    "* Once per session gossiper choose random node in cluster and begin gossiping,\n",
    "    - Initiator send gossipDigestSyncMessage.\n",
    "    - When other node receive message it sends gossipDigestAckMessage.\n",
    "    - When initiator receives it, it replies with gossipDigestAck2Message. \n",
    "* If no reply from another node, initiator mark node as dead in local list."
   ]
  }
 ],
 "metadata": {
  "kernelspec": {
   "display_name": "Python 3",
   "language": "python",
   "name": "python3"
  },
  "language_info": {
   "codemirror_mode": {
    "name": "ipython",
    "version": 3
   },
   "file_extension": ".py",
   "mimetype": "text/x-python",
   "name": "python",
   "nbconvert_exporter": "python",
   "pygments_lexer": "ipython3",
   "version": "3.7.1"
  }
 },
 "nbformat": 4,
 "nbformat_minor": 2
}
