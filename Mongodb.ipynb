{
 "cells": [
  {
   "cell_type": "markdown",
   "metadata": {},
   "source": [
    "* MongoDB basic query tells which part of which document should be accessed.\n",
    "\n",
    "### MongoDb find()\n",
    "\n",
    "```\n",
    "db.collection.find(<query filter>, <projection>).<cursor modifier>\n",
    "\n",
    "    - collection : like FROM clause specified collection to use\n",
    "    - <query filter> : WHERE clause, specify which document to return\n",
    "    - <projection> : Projection variable as SELECT \n",
    "    - <cursor modifier>: How many items to return\n",
    "```\n",
    "\n",
    "* Example\n",
    "\n",
    "```\n",
    "SELECT * FROM Beers\n",
    "db.Beers.find()\n",
    "\n",
    "SELECT beer, price FROM Beers\n",
    "db.Beers.find(\n",
    "                {},\n",
    "                {beer:1, price:1}\n",
    "              )\n",
    "         - 1 is attribute which will in output, 0 will be not in output.\n",
    "         - Every mongodb document has identifier name _id By default \n",
    "         mongodb query return _id. to hide it use _id:0\n",
    " \n",
    " \n",
    "SELECT manf FROM Beers WHERE name = 'Heineken'\n",
    "db.Beers.find({name:\"Heineken\"}, {manf:1, _id:0})\n",
    "\n",
    "\n",
    "SELECT DISTINCT beer,price FROM Sells WHERE price > 15\n",
    "\n",
    "db.Sells.distinct({price:{$gt:15}}, {beer:1, price:1, _id:0})\n",
    "```"
   ]
  },
  {
   "cell_type": "markdown",
   "metadata": {},
   "source": [
    "#### Mongodb logical operators\n",
    "![](images/mongo_logical.jpg)\n",
    "\n",
    "#### Mongodb comparision operators\n",
    "![](images/mongo_compare.jpg)\n",
    "\n",
    "#### Mongodb array operators\n",
    "![](images/mongo_array.jpg)\n"
   ]
  },
  {
   "cell_type": "markdown",
   "metadata": {},
   "source": [
    "* Count number of manufacturers whose names have the partial string \"am\" in it\n",
    "```\n",
    "db.Beers.find(name:{$regex:/am/i}).count()\n",
    "```\n",
    "* `/am/` is partial string `i` is case insensitive for partial query.\n",
    "* `count()` is post operation after find.\n",
    "\n",
    "```\n",
    "db.Beers.find(name:{$regex:/^Am/}).count() # starts with Am\n",
    "\n",
    "db.Beers.count(name:{$regex:/^Am.*corp$/}).count() # start with AM and end with corp\n",
    "```\n"
   ]
  },
  {
   "cell_type": "code",
   "execution_count": null,
   "metadata": {},
   "outputs": [],
   "source": []
  },
  {
   "cell_type": "code",
   "execution_count": null,
   "metadata": {},
   "outputs": [],
   "source": []
  },
  {
   "cell_type": "code",
   "execution_count": null,
   "metadata": {},
   "outputs": [],
   "source": []
  },
  {
   "cell_type": "code",
   "execution_count": null,
   "metadata": {},
   "outputs": [],
   "source": []
  },
  {
   "cell_type": "code",
   "execution_count": null,
   "metadata": {},
   "outputs": [],
   "source": []
  },
  {
   "cell_type": "markdown",
   "metadata": {},
   "source": [
    "* mongo is Humongous. Can store lots of data.\n",
    "* On server we have mongodb database called Shop.\n",
    "* Database contains table in SQL world. Here, database contains collections\n",
    "* We can have multiple database and multiple collections per database. Inside collections we have documents. Documents are schemaless. We can store totally different documents in specific collection.\n",
    "\n",
    "![](images/mongodb.jpg)"
   ]
  },
  {
   "cell_type": "markdown",
   "metadata": {},
   "source": [
    "#### JSON structure\n",
    "\n",
    "![](images/json.jpg)"
   ]
  },
  {
   "cell_type": "markdown",
   "metadata": {},
   "source": [
    "* Instead of normalizing data, mongodb stores data together in document. Multiple document can have different structure.\n",
    "* It has less relations meaning during accessing data mergining is NOT/LESS required"
   ]
  },
  {
   "cell_type": "markdown",
   "metadata": {},
   "source": [
    "### MongoDB Ecosystem\n",
    "* MongoDB Database\n",
    "* Compass : GUI to look into db\n",
    "* BI connectors\n",
    "* MongoDB Charts\n",
    "* Stitch : Server less back end connection, provides server less Query API."
   ]
  },
  {
   "cell_type": "markdown",
   "metadata": {},
   "source": [
    "* Start server using `mongod`, start client using `mongo` in two different terminal"
   ]
  },
  {
   "cell_type": "markdown",
   "metadata": {},
   "source": [
    "```\n",
    "show dbs\n",
    "```\n",
    "* Is used to check available database. By default admin, config and local are available to store metadata info.\n",
    "\n",
    "```\n",
    "use shop\n",
    "```\n",
    "* It connect with database shop, if it is not exist then will create one."
   ]
  },
  {
   "cell_type": "markdown",
   "metadata": {},
   "source": [
    "![](images/mongo1.jpg)"
   ]
  },
  {
   "cell_type": "markdown",
   "metadata": {},
   "source": [
    "* To add document in collection\n",
    "```\n",
    "db.collection_name.insertOne()\n",
    "```"
   ]
  },
  {
   "cell_type": "markdown",
   "metadata": {},
   "source": [
    "* From python we can access mongodb database using pymongo driver."
   ]
  },
  {
   "cell_type": "code",
   "execution_count": 1,
   "metadata": {},
   "outputs": [],
   "source": [
    "import pymongo"
   ]
  },
  {
   "cell_type": "markdown",
   "metadata": {},
   "source": [
    "* Create MongoClient"
   ]
  },
  {
   "cell_type": "code",
   "execution_count": 3,
   "metadata": {},
   "outputs": [],
   "source": [
    "from pymongo import MongoClient\n",
    "client = MongoClient() # connect with default host and port. \n",
    "# We can specify it using MongoClient('localhost', 27017)\n",
    "# or MongoClient('mongodb://localhost:27017/')"
   ]
  },
  {
   "cell_type": "code",
   "execution_count": 5,
   "metadata": {},
   "outputs": [],
   "source": [
    "db = client.shop\n",
    "# or db = client['shop']"
   ]
  },
  {
   "cell_type": "code",
   "execution_count": 7,
   "metadata": {},
   "outputs": [],
   "source": [
    "collection = db.products"
   ]
  },
  {
   "cell_type": "markdown",
   "metadata": {},
   "source": [
    "* MongoDB server use storage engine to store/ retrieve the data from database.\n",
    "* Storage engine can read or write data in memory(fast) for fast access. or files(slow).\n",
    "![](images/storage_engine.jpg)"
   ]
  },
  {
   "cell_type": "markdown",
   "metadata": {},
   "source": [
    "* Every inserted document will have unique id of type ObjectId"
   ]
  },
  {
   "cell_type": "markdown",
   "metadata": {},
   "source": [
    "### JSON Vs BSON\n",
    "* BSON is binary json. Mongodb driver takes JSON data and convert it to BSON. It is more space efficient and support additional type like ObjectId, different numeric type.\n"
   ]
  },
  {
   "cell_type": "markdown",
   "metadata": {},
   "source": [
    "* We can specify _id by over self in document but make sure it is unique than other documents."
   ]
  },
  {
   "cell_type": "markdown",
   "metadata": {},
   "source": [
    "![](images/crud.jpg)"
   ]
  },
  {
   "cell_type": "markdown",
   "metadata": {},
   "source": [
    "#### deleteOne"
   ]
  },
  {
   "cell_type": "markdown",
   "metadata": {},
   "source": [
    "![](images/deleteOne.jpg)"
   ]
  },
  {
   "cell_type": "markdown",
   "metadata": {},
   "source": [
    "#### deleteMany, updateOne, updateMany"
   ]
  },
  {
   "cell_type": "markdown",
   "metadata": {},
   "source": [
    "![](images/deleteMany.jpg)"
   ]
  },
  {
   "cell_type": "markdown",
   "metadata": {},
   "source": [
    "#### inserMany()\n",
    "* Provide json array"
   ]
  },
  {
   "cell_type": "markdown",
   "metadata": {},
   "source": [
    "![](images/insertmany.jpg)"
   ]
  },
  {
   "cell_type": "markdown",
   "metadata": {},
   "source": [
    "### find, findOne\n",
    "* find returns all matching element\n",
    "* findOne returns first matching element. It does not support pretty"
   ]
  },
  {
   "cell_type": "markdown",
   "metadata": {},
   "source": [
    "![](images/findone.jpg)"
   ]
  },
  {
   "cell_type": "markdown",
   "metadata": {},
   "source": [
    "### Data types\n",
    "![](images/data_type_mongo.jpg)"
   ]
  },
  {
   "cell_type": "code",
   "execution_count": null,
   "metadata": {},
   "outputs": [],
   "source": []
  }
 ],
 "metadata": {
  "kernelspec": {
   "display_name": "Python 3",
   "language": "python",
   "name": "python3"
  },
  "language_info": {
   "codemirror_mode": {
    "name": "ipython",
    "version": 3
   },
   "file_extension": ".py",
   "mimetype": "text/x-python",
   "name": "python",
   "nbconvert_exporter": "python",
   "pygments_lexer": "ipython3",
   "version": "3.7.1"
  }
 },
 "nbformat": 4,
 "nbformat_minor": 2
}
