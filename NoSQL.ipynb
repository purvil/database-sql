{
 "cells": [
  {
   "cell_type": "markdown",
   "metadata": {},
   "source": [
    "### SQL vs NoSQL\n",
    "* In SQL data is stored in relational model, with rows and columns. In NoSQL there are different data storage models like key-value, graph, document, columnar\n",
    "* In SQL each record has fixed schema, columns must be decided before data entry. Each row must contains data for each columns. In NoSQL schema is dynamic. Info can be added on the fly, each row does not have to contain data for each column.\n",
    "* Mostly scaling is vertical in SQL. Scaling is horizontal in NoSQL.\n",
    "* Majority SQL database are ACID compliant.  NoSQL sacrifice ACID complicancy for performance and scalability.\n",
    "\n",
    "### Document database\n",
    "- CouchDB, MongoDB\n",
    "- Instead of storing data in rows and columns in a table, data stored in documents, each document is grouped together in collections. Each has completely different structure\n",
    "\n",
    "\n",
    "### Key-Value stores\n",
    "- Redis, Dynamo, Voldemort\n",
    "- Data is stored in associative array of key and value. Key is attribute name which linked to value.\n",
    "\n",
    "### Graph database\n",
    "* Neo4j, InfiniteGraph\n",
    "* Data is stored in graph structures with nodes, properties and lines\n",
    "\n",
    "### Columnar Database\n",
    "* Cassandra, HBase\n",
    "* Like SQL we do not know all the columns upfront, each row does not have same number of columns."
   ]
  },
  {
   "cell_type": "markdown",
   "metadata": {},
   "source": [
    "* If data is changing fast or growing fast NoSQL is good choice. If data is not changing rapidly, moderate manageable growth then go with SQL."
   ]
  }
 ],
 "metadata": {
  "kernelspec": {
   "display_name": "Python 3",
   "language": "python",
   "name": "python3"
  },
  "language_info": {
   "codemirror_mode": {
    "name": "ipython",
    "version": 3
   },
   "file_extension": ".py",
   "mimetype": "text/x-python",
   "name": "python",
   "nbconvert_exporter": "python",
   "pygments_lexer": "ipython3",
   "version": "3.7.1"
  }
 },
 "nbformat": 4,
 "nbformat_minor": 2
}
